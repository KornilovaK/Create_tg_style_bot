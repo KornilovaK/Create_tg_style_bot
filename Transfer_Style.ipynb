{
  "nbformat": 4,
  "nbformat_minor": 0,
  "metadata": {
    "colab": {
      "provenance": [],
      "gpuType": "T4"
    },
    "kernelspec": {
      "name": "python3",
      "display_name": "Python 3"
    },
    "language_info": {
      "name": "python"
    },
    "accelerator": "GPU"
  },
  "cells": [
    {
      "cell_type": "code",
      "execution_count": null,
      "metadata": {
        "id": "eX0xmQZVG1Vm"
      },
      "outputs": [],
      "source": [
        "import torch\n",
        "import torch.nn as nn\n",
        "import torch.nn.functional as F\n",
        "import torch.optim as optim\n",
        "\n",
        "from PIL import Image\n",
        "import matplotlib.pyplot as plt\n",
        "\n",
        "import torchvision.transforms as transforms # преобразовать изображения PIL в тензоры\n",
        "from torchvision.models import vgg19, VGG19_Weights # обучайте или загружайте предварительно обученные модели\n",
        "\n",
        "import copy # для глубокого копирования моделей; системный пакет"
      ]
    },
    {
      "cell_type": "code",
      "source": [
        "device = torch.device(\"cuda\" if torch.cuda.is_available() else \"cpu\")\n",
        "torch.set_default_device(device)"
      ],
      "metadata": {
        "id": "d0T1I0tfG6Wg"
      },
      "execution_count": null,
      "outputs": []
    },
    {
      "cell_type": "code",
      "source": [
        "# desired size of the output image\n",
        "imsize = 512 if torch.cuda.is_available() else 128  # use small size if no GPU\n",
        "\n",
        "loader = transforms.Compose([\n",
        "    transforms.Resize(imsize),  # scale imported image\n",
        "    transforms.ToTensor()])  # transform it into a torch tensor\n",
        "\n",
        "\n",
        "def image_loader(image_name):\n",
        "    image = Image.open(image_name)\n",
        "    # fake batch dimension required to fit network's input dimensions\n",
        "    image = loader(image).unsqueeze(0)\n",
        "    return image.to(device, torch.float)\n",
        "\n",
        "\n",
        "style_img = image_loader(\"/content/photo_2024-02-05_22-59-20.jpg\")\n",
        "content_img = image_loader(\"/content/photo_2024-02-05_22-59-25.jpg\")\n",
        "\n",
        "assert style_img.size() == content_img.size(), \\\n",
        "    \"we need to import style and content images of the same size\""
      ],
      "metadata": {
        "id": "nKEdc3yvHWmn"
      },
      "execution_count": null,
      "outputs": []
    },
    {
      "cell_type": "code",
      "source": [
        "unloader = transforms.ToPILImage()  # reconvert into PIL image\n",
        "\n",
        "plt.ion()\n",
        "\n",
        "def imshow(tensor, title=None):\n",
        "    image = tensor.cpu().clone()  # we clone the tensor to not do changes on it\n",
        "    image = image.squeeze(0)      # remove the fake batch dimension\n",
        "    image = unloader(image)\n",
        "    plt.imshow(image)\n",
        "    if title is not None:\n",
        "        plt.title(title)\n",
        "    plt.pause(0.001) # pause a bit so that plots are updated\n",
        "\n",
        "\n",
        "plt.figure()\n",
        "imshow(style_img, title='Style Image')\n",
        "\n",
        "plt.figure()\n",
        "imshow(content_img, title='Content Image')"
      ],
      "metadata": {
        "id": "5K-wumrJPxMA"
      },
      "execution_count": null,
      "outputs": []
    },
    {
      "cell_type": "markdown",
      "source": [
        "The content loss is a function that represents a weighted version of the content distance for an individual layer. The function takes the feature maps of a layer L in a network processing input and returns the weighted content distance.\n",
        "The feature maps of the content image must be known by the function in order to calculate the content distance. We implement this function as a torch module with a constructor that takes as an input. The distance\n",
        "is the mean square error between the two sets of feature maps, and can be computed using nn.MSELoss.\n",
        "\n",
        "We will add this content loss module directly after the convolution layer(s) that are being used to compute the content distance. This way each time the network is fed an input image the content losses will be computed at the desired layers and because of auto grad, all the gradients will be computed. Now, in order to make the content loss layer transparent we must define a forward method that computes the content loss and then returns the layer’s input. The computed loss is saved as a parameter of the module."
      ],
      "metadata": {
        "id": "Wb_NJ1DjQx-V"
      }
    },
    {
      "cell_type": "code",
      "source": [
        "class ContentLoss(nn.Module):\n",
        "\n",
        "    def __init__(self, target,):\n",
        "        super(ContentLoss, self).__init__()\n",
        "        # we 'detach' the target content from the tree used\n",
        "        # to dynamically compute the gradient: this is a stated value,\n",
        "        # not a variable. Otherwise the forward method of the criterion\n",
        "        # will throw an error.\n",
        "        self.target = target.detach()\n",
        "\n",
        "    def forward(self, input):\n",
        "        self.loss = F.mse_loss(input, self.target)\n",
        "        return input"
      ],
      "metadata": {
        "id": "L6om9yyYQaqQ"
      },
      "execution_count": null,
      "outputs": []
    },
    {
      "cell_type": "markdown",
      "source": [
        "**Important detail**: although this module is named ContentLoss, it is not a true PyTorch Loss function. If you want to define your content loss as a PyTorch Loss function, you have to create a PyTorch autograd function to recompute/implement the gradient manually in the backward method."
      ],
      "metadata": {
        "id": "YEEMMFquRtfd"
      }
    },
    {
      "cell_type": "code",
      "source": [
        "def gram_matrix(input):\n",
        "    a, b, c, d = input.size()  # a=batch size(=1)\n",
        "    # b=number of feature maps\n",
        "    # (c,d)=dimensions of a f. map (N=c*d)\n",
        "\n",
        "    features = input.view(a * b, c * d)  # resize F_XL into \\hat F_XL\n",
        "\n",
        "    G = torch.mm(features, features.t())  # compute the gram product\n",
        "\n",
        "    # we 'normalize' the values of the gram matrix\n",
        "    # by dividing by the number of element in each feature maps.\n",
        "    return G.div(a * b * c * d)"
      ],
      "metadata": {
        "id": "R6udl4LeRoJc"
      },
      "execution_count": null,
      "outputs": []
    },
    {
      "cell_type": "code",
      "source": [
        "class StyleLoss(nn.Module):\n",
        "\n",
        "    def __init__(self, target_feature):\n",
        "        super(StyleLoss, self).__init__()\n",
        "        self.target = gram_matrix(target_feature).detach()\n",
        "\n",
        "    def forward(self, input):\n",
        "        G = gram_matrix(input)\n",
        "        self.loss = F.mse_loss(G, self.target)\n",
        "        return input"
      ],
      "metadata": {
        "id": "ObV0MWN2Ui9x"
      },
      "execution_count": null,
      "outputs": []
    },
    {
      "cell_type": "code",
      "source": [
        "cnn = vgg19(weights=VGG19_Weights.DEFAULT).features#.eval()"
      ],
      "metadata": {
        "id": "k84DIfv_Vr-C",
        "colab": {
          "base_uri": "https://localhost:8080/"
        },
        "outputId": "f578dc32-2723-4546-f1df-73ec6ec8d42c"
      },
      "execution_count": null,
      "outputs": [
        {
          "output_type": "stream",
          "name": "stderr",
          "text": [
            "Downloading: \"https://download.pytorch.org/models/vgg19-dcbb9e9d.pth\" to /root/.cache/torch/hub/checkpoints/vgg19-dcbb9e9d.pth\n",
            "100%|██████████| 548M/548M [00:15<00:00, 36.1MB/s]\n"
          ]
        }
      ]
    },
    {
      "cell_type": "code",
      "source": [
        "torch.save(cnn, '/content/vgg.pk')"
      ],
      "metadata": {
        "id": "92NLu2lYV5EL"
      },
      "execution_count": null,
      "outputs": []
    },
    {
      "cell_type": "code",
      "source": [
        "torch.save(cnn, '/content/vgg2.pth')"
      ],
      "metadata": {
        "id": "hlgl9aG7HXdc"
      },
      "execution_count": null,
      "outputs": []
    },
    {
      "cell_type": "code",
      "source": [
        "cnn = torch.load('./vgg.pk').eval()"
      ],
      "metadata": {
        "id": "vfxJ3Kqj6mZZ"
      },
      "execution_count": null,
      "outputs": []
    },
    {
      "cell_type": "code",
      "source": [
        "torch_input = torch.randn(1, 3, 128, 128)\n",
        "onnx_program = torch.onnx.dynamo_export(cnn, torch_input)"
      ],
      "metadata": {
        "colab": {
          "base_uri": "https://localhost:8080/"
        },
        "id": "MPxRTWgGHoPq",
        "outputId": "05aec27b-d3d6-4c6b-ed3f-0b279401567d"
      },
      "execution_count": null,
      "outputs": [
        {
          "output_type": "stream",
          "name": "stderr",
          "text": [
            "/usr/local/lib/python3.10/dist-packages/torch/onnx/_internal/exporter.py:130: UserWarning: torch.onnx.dynamo_export only implements opset version 18 for now. If you need to use a different opset version, please register them with register_custom_op.\n",
            "  warnings.warn(\n"
          ]
        }
      ]
    },
    {
      "cell_type": "code",
      "source": [
        "onnx_program.save(\"model.onnx\")"
      ],
      "metadata": {
        "id": "rQPbT3ZLJHm7"
      },
      "execution_count": null,
      "outputs": []
    },
    {
      "cell_type": "code",
      "source": [
        "!pip install onnxruntime"
      ],
      "metadata": {
        "id": "E7b7iwI0JV0v"
      },
      "execution_count": null,
      "outputs": []
    },
    {
      "cell_type": "code",
      "source": [
        "import onnx\n",
        "onnx_model = onnx.load(\"./model.onnx\")\n",
        "onnx.checker.check_model(onnx_model)"
      ],
      "metadata": {
        "id": "SJSY_KfiJPeJ"
      },
      "execution_count": null,
      "outputs": []
    },
    {
      "cell_type": "code",
      "source": [
        "onnx_model"
      ],
      "metadata": {
        "id": "N44M6nQBJdNr"
      },
      "execution_count": null,
      "outputs": []
    },
    {
      "cell_type": "code",
      "source": [
        "import onnxruntime\n",
        "\n",
        "onnx_input = onnx_program.adapt_torch_inputs_to_onnx(torch_input)\n",
        "print(f\"Input length: {len(onnx_input)}\")\n",
        "print(f\"Sample input: {onnx_input}\")\n",
        "\n",
        "ort_session = onnxruntime.InferenceSession(\"./my_image_classifier.onnx\", providers=['CPUExecutionProvider'])\n",
        "\n",
        "def to_numpy(tensor):\n",
        "    return tensor.detach().cpu().numpy() if tensor.requires_grad else tensor.cpu().numpy()\n",
        "\n",
        "onnxruntime_input = {k.name: to_numpy(v) for k, v in zip(ort_session.get_inputs(), onnx_input)}\n",
        "\n",
        "onnxruntime_outputs = ort_session.run(None, onnxruntime_input)"
      ],
      "metadata": {
        "id": "paQnvaL7JhjW"
      },
      "execution_count": null,
      "outputs": []
    },
    {
      "cell_type": "code",
      "source": [
        "cnn_normalization_mean = torch.tensor([0.485, 0.456, 0.406])\n",
        "cnn_normalization_std = torch.tensor([0.229, 0.224, 0.225])\n",
        "\n",
        "# create a module to normalize input image so we can easily put it in a\n",
        "# ``nn.Sequential``\n",
        "class Normalization(nn.Module):\n",
        "    def __init__(self, mean, std):\n",
        "        super(Normalization, self).__init__()\n",
        "        # .view the mean and std to make them [C x 1 x 1] so that they can\n",
        "        # directly work with image Tensor of shape [B x C x H x W].\n",
        "        # B is batch size. C is number of channels. H is height and W is width.\n",
        "        self.mean = torch.tensor(mean).view(-1, 1, 1)\n",
        "        self.std = torch.tensor(std).view(-1, 1, 1)\n",
        "\n",
        "    def forward(self, img):\n",
        "        # normalize ``img``\n",
        "        return (img - self.mean) / self.std"
      ],
      "metadata": {
        "id": "lYll7lxvWEGV"
      },
      "execution_count": null,
      "outputs": []
    },
    {
      "cell_type": "code",
      "source": [
        "# desired depth layers to compute style/content losses :\n",
        "content_layers_default = ['conv_4']\n",
        "style_layers_default = ['conv_1', 'conv_2', 'conv_3', 'conv_4', 'conv_5']\n",
        "\n",
        "normalization_mean=cnn_normalization_mean\n",
        "normalization_std = cnn_normalization_std\n",
        "content_layers=content_layers_default,\n",
        "style_layers=style_layers_default\n",
        "# normalization module\n",
        "normalization = Normalization(normalization_mean, normalization_std)\n",
        "\n",
        "# just in order to have an iterable access to or list of content/style\n",
        "# losses\n",
        "content_losses = []\n",
        "style_losses = []\n",
        "\n",
        "# assuming that ``cnn`` is a ``nn.Sequential``, so we make a new ``nn.Sequential``\n",
        "# to put in modules that are supposed to be activated sequentially\n",
        "model = nn.Sequential(normalization)\n",
        "\n",
        "i = 0  # increment every time we see a conv\n",
        "for layer in cnn.children():\n",
        "    if isinstance(layer, nn.Conv2d):\n",
        "        i += 1\n",
        "        name = 'conv_{}'.format(i)\n",
        "    elif isinstance(layer, nn.ReLU):\n",
        "        name = 'relu_{}'.format(i)\n",
        "        # The in-place version doesn't play very nicely with the ``ContentLoss``\n",
        "        # and ``StyleLoss`` we insert below. So we replace with out-of-place\n",
        "        # ones here.\n",
        "        layer = nn.ReLU(inplace=False)\n",
        "    elif isinstance(layer, nn.MaxPool2d):\n",
        "        name = 'pool_{}'.format(i)\n",
        "    elif isinstance(layer, nn.BatchNorm2d):\n",
        "        name = 'bn_{}'.format(i)\n",
        "    else:\n",
        "        raise RuntimeError('Unrecognized layer: {}'.format(layer.__class__.__name__))\n",
        "\n",
        "    model.add_module(name, layer)\n",
        "\n",
        "    if name in content_layers:\n",
        "        # add content loss:\n",
        "        target = model(content_img).detach()\n",
        "        content_loss = ContentLoss(target)\n",
        "        model.add_module(\"content_loss_{}\".format(i), content_loss)\n",
        "        content_losses.append(content_loss)\n",
        "\n",
        "    if name in style_layers:\n",
        "        # add style loss:\n",
        "        target_feature = model(style_img).detach()\n",
        "        style_loss = StyleLoss(target_feature)\n",
        "        model.add_module(\"style_loss_{}\".format(i), style_loss)\n",
        "        style_losses.append(style_loss)\n",
        "\n",
        "# now we trim off the layers after the last content and style losses\n",
        "for i in range(len(model) - 1, -1, -1):\n",
        "    if isinstance(model[i], ContentLoss) or isinstance(model[i], StyleLoss):\n",
        "        break\n",
        "\n",
        "model = model[:(i + 1)]\n",
        "\n",
        "#return model, style_losses, content_losses"
      ],
      "metadata": {
        "id": "bZQCFGvFWGNy",
        "colab": {
          "base_uri": "https://localhost:8080/"
        },
        "outputId": "b845ed47-17ad-4f93-e891-a68674cc4a25"
      },
      "execution_count": null,
      "outputs": [
        {
          "output_type": "stream",
          "name": "stderr",
          "text": [
            "/usr/local/lib/python3.10/dist-packages/torch/utils/_device.py:77: UserWarning: To copy construct from a tensor, it is recommended to use sourceTensor.clone().detach() or sourceTensor.clone().detach().requires_grad_(True), rather than torch.tensor(sourceTensor).\n",
            "  return func(*args, **kwargs)\n"
          ]
        }
      ]
    },
    {
      "cell_type": "code",
      "source": [
        "content_layers_default = ['conv_4']\n",
        "style_layers_default = ['conv_1', 'conv_2', 'conv_3', 'conv_4', 'conv_5']\n",
        "\n",
        "normalization_mean = cnn_normalization_mean\n",
        "normalization_std = cnn_normalization_std\n",
        "content_layers = content_layers_default\n",
        "style_layers = style_layers_default\n",
        "\n",
        "normalization = Normalization(normalization_mean, normalization_std)\n",
        "\n",
        "content_losses = []\n",
        "style_losses = []\n",
        "\n",
        "model = nn.Sequential(normalization)\n",
        "\n",
        "i = 0\n",
        "for layer in cnn.children():\n",
        "    if isinstance(layer, nn.Conv2d):\n",
        "        i += 1\n",
        "        name = 'conv_{}'.format(i)\n",
        "    elif isinstance(layer, nn.ReLU):\n",
        "        name = 'relu_{}'.format(i)\n",
        "        layer = nn.ReLU(inplace=False)\n",
        "    elif isinstance(layer, nn.MaxPool2d):\n",
        "        name = 'pool_{}'.format(i)\n",
        "    elif isinstance(layer, nn.BatchNorm2d):\n",
        "        name = 'bn_{}'.format(i)\n",
        "    else:\n",
        "        raise RuntimeError('Unrecognized layer: {}'.format(layer.__class__.__name__))\n",
        "\n",
        "    model.add_module(name, layer)\n",
        "\n",
        "    if name in content_layers:\n",
        "        target = model(content_img).detach()\n",
        "        content_loss = ContentLoss(target)\n",
        "        model.add_module(\"content_loss_{}\".format(i), content_loss)\n",
        "        content_losses.append(content_loss)\n",
        "\n",
        "    if name in style_layers:\n",
        "        target_feature = model(style_img).detach()\n",
        "        style_loss = StyleLoss(target_feature)\n",
        "        model.add_module(\"style_loss_{}\".format(i), style_loss)\n",
        "        style_losses.append(style_loss)\n",
        "\n",
        "for i in range(len(model) - 1, -1, -1):\n",
        "    if isinstance(model[i], ContentLoss) or isinstance(model[i], StyleLoss):\n",
        "        break\n",
        "\n",
        "model = model[:(i + 1)]\n",
        "\n",
        "#return model, style_losses, content_losses"
      ],
      "metadata": {
        "id": "KFtyUAd6YieK"
      },
      "execution_count": null,
      "outputs": []
    },
    {
      "cell_type": "code",
      "source": [
        "content_losses"
      ],
      "metadata": {
        "id": "RaOr2KsBZofC"
      },
      "execution_count": null,
      "outputs": []
    },
    {
      "cell_type": "code",
      "source": [
        "# torch.save(model, '/content/cnn.pk')"
      ],
      "metadata": {
        "id": "EXm8Bfg-X4O4"
      },
      "execution_count": null,
      "outputs": []
    },
    {
      "cell_type": "code",
      "source": [
        "model = torch.load('/content/cnn.pk').eval()"
      ],
      "metadata": {
        "id": "t4Jw2mVbYHSe"
      },
      "execution_count": null,
      "outputs": []
    },
    {
      "cell_type": "code",
      "source": [
        "input_img = content_img.clone()\n",
        "\n",
        "plt.figure()\n",
        "imshow(input_img, title='Input Image')"
      ],
      "metadata": {
        "id": "Mjx0MbQ6YrrB"
      },
      "execution_count": null,
      "outputs": []
    },
    {
      "cell_type": "markdown",
      "source": [
        "мы будем использовать алгоритм L-BFGS для запуска нашего градиентного спуска. В отличие от обучения сети, мы хотим обучить входное изображение, чтобы минимизировать потери контента/стиля. Мы создадим оптимизатор PyTorch L-BFGS optim.LBFGSи передадим ему наше изображение в качестве тензора для оптимизации."
      ],
      "metadata": {
        "id": "xI76Ov5CY7Ze"
      }
    },
    {
      "cell_type": "code",
      "source": [
        "def get_input_optimizer(input_img):\n",
        "    # this line to show that input is a parameter that requires a gradient\n",
        "    optimizer = optim.LBFGS([input_img])\n",
        "    return optimizer"
      ],
      "metadata": {
        "id": "2YD_f3yuY3_g"
      },
      "execution_count": null,
      "outputs": []
    },
    {
      "cell_type": "code",
      "source": [
        "# def run_style_transfer(cnn, normalization_mean, normalization_std,\n",
        "#                        content_img, style_img, input_img, num_steps=300,\n",
        "#                        style_weight=1000000, content_weight=1):\n",
        "#     \"\"\"Run the style transfer.\"\"\"\n",
        "#     print('Building the style transfer model..')\n",
        "#     model, style_losses, content_losses = get_style_model_and_losses(cnn,\n",
        "#         normalization_mean, normalization_std, style_img, content_img)\n",
        "\n",
        "num_steps = 300\n",
        "style_weight = 1000000\n",
        "content_weight = 1\n",
        "\n",
        "input_img.requires_grad_(True)\n",
        "# We also put the model in evaluation mode, so that specific layers\n",
        "# such as dropout or batch normalization layers behave correctly.\n",
        "model.eval()\n",
        "model.requires_grad_(False)\n",
        "\n",
        "optimizer = get_input_optimizer(input_img)\n",
        "\n",
        "print('Optimizing..')\n",
        "run = [0]\n",
        "while run[0] <= num_steps:\n",
        "\n",
        "    def closure():\n",
        "        # correct the values of updated input image\n",
        "        with torch.no_grad():\n",
        "            input_img.clamp_(0, 1)\n",
        "\n",
        "        optimizer.zero_grad()\n",
        "        model(input_img)\n",
        "        style_score = 0\n",
        "        content_score = 0\n",
        "\n",
        "        for sl in style_losses:\n",
        "            style_score += sl.loss\n",
        "        for cl in content_losses:\n",
        "            content_score += cl.loss\n",
        "\n",
        "        style_score *= style_weight\n",
        "        content_score *= content_weight\n",
        "\n",
        "        loss = style_score + content_score\n",
        "        loss.backward()\n",
        "\n",
        "        run[0] += 1\n",
        "        if run[0] % 50 == 0:\n",
        "            print(\"run {}:\".format(run))\n",
        "            print('Style Loss : {:4f} Content Loss: {:4f}'.format(\n",
        "                style_score.item(), content_score.item()))\n",
        "            print()\n",
        "\n",
        "        return style_score + content_score\n",
        "\n",
        "    optimizer.step(closure)\n",
        "\n",
        "# a last correction...\n",
        "with torch.no_grad():\n",
        "    input_img.clamp_(0, 1)\n",
        "\n",
        "# return input_img"
      ],
      "metadata": {
        "id": "zSqMIZIbY5iw"
      },
      "execution_count": null,
      "outputs": []
    },
    {
      "cell_type": "code",
      "source": [
        "output = run_style_transfer(cnn, cnn_normalization_mean, cnn_normalization_std,\n",
        "                            content_img, style_img, input_img)\n",
        "\n",
        "plt.figure()\n",
        "imshow(output, title='Output Image')\n",
        "\n",
        "# sphinx_gallery_thumbnail_number = 4\n",
        "plt.ioff()\n",
        "plt.show()"
      ],
      "metadata": {
        "id": "EIuwLDifaebO"
      },
      "execution_count": null,
      "outputs": []
    },
    {
      "cell_type": "code",
      "source": [],
      "metadata": {
        "id": "WMP7GsIXRy4N"
      },
      "execution_count": null,
      "outputs": []
    }
  ]
}